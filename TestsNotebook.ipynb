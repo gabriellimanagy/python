{
 "cells": [
  {
   "cell_type": "code",
   "execution_count": 1,
   "metadata": {},
   "outputs": [],
   "source": [
    "import re\n",
    "\n",
    "def validar_email(email):\n",
    "    # define a expressão regular para validar endereços de e-mail\n",
    "    padrao = r'^[\\w-]+(\\.[\\w-]+)*@[\\w-]+(\\.[\\w-]+)*(\\.[a-z]{2,})$'\n",
    "    \n",
    "    # verifica se o endereço de e-mail corresponde ao padrão\n",
    "    if re.match(padrao, email):\n",
    "        return True\n",
    "    else:\n",
    "        return False"
   ]
  },
  {
   "cell_type": "code",
   "execution_count": 9,
   "metadata": {},
   "outputs": [
    {
     "name": "stdout",
     "output_type": "stream",
     "text": [
      "Endereço de e-mail válido.\n"
     ]
    }
   ],
   "source": [
    "endereco_email = \"exemplo@dominio.com\"\n",
    "\n",
    "if validar_email(endereco_email):\n",
    "    print(\"Endereço de e-mail válido.\")\n",
    "else:\n",
    "    print(\"Endereço de e-mail inválido.\")"
   ]
  },
  {
   "cell_type": "code",
   "execution_count": null,
   "metadata": {},
   "outputs": [],
   "source": []
  }
 ],
 "metadata": {
  "kernelspec": {
   "display_name": "Python 3",
   "language": "python",
   "name": "python3"
  },
  "language_info": {
   "codemirror_mode": {
    "name": "ipython",
    "version": 3
   },
   "file_extension": ".py",
   "mimetype": "text/x-python",
   "name": "python",
   "nbconvert_exporter": "python",
   "pygments_lexer": "ipython3",
   "version": "3.10.10"
  },
  "orig_nbformat": 4
 },
 "nbformat": 4,
 "nbformat_minor": 2
}
