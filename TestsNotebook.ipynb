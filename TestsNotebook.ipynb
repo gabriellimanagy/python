{
 "cells": [
  {
   "cell_type": "code",
   "execution_count": 1,
   "metadata": {},
   "outputs": [],
   "source": [
    "import re\n",
    "\n",
    "def validar_email(email):\n",
    "    # define a expressão regular para validar endereços de e-mail\n",
    "    padrao = r'^[\\w-]+(\\.[\\w-]+)*@[\\w-]+(\\.[\\w-]+)*(\\.[a-z]{2,})$'\n",
    "    \n",
    "    # verifica se o endereço de e-mail corresponde ao padrão\n",
    "    if re.match(padrao, email):\n",
    "        return True\n",
    "    else:\n",
    "        return False"
   ]
  },
  {
   "cell_type": "code",
   "execution_count": 9,
   "metadata": {},
   "outputs": [
    {
     "name": "stdout",
     "output_type": "stream",
     "text": [
      "Endereço de e-mail válido.\n"
     ]
    }
   ],
   "source": [
    "endereco_email = \"exemplo@dominio.com\"\n",
    "\n",
    "if validar_email(endereco_email):\n",
    "    print(\"Endereço de e-mail válido.\")\n",
    "else:\n",
    "    print(\"Endereço de e-mail inválido.\")"
   ]
  }
